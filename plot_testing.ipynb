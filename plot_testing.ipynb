{
 "cells": [
  {
   "cell_type": "code",
   "execution_count": 1,
   "metadata": {
    "autoscroll": false,
    "ein.tags": "worksheet-0",
    "slideshow": {
     "slide_type": "-"
    }
   },
   "outputs": [
    {
     "data": {
      "text/plain": [
       "<matplotlib.text.Text at 0x10f36a9e8>"
      ]
     },
     "execution_count": 1,
     "metadata": {},
     "output_type": "execute_result"
    }
   ],
   "source": [
    "import numpy as np\n",
    "import matplotlib.pyplot as plt\n",
    "\n",
    "#2.2.1\n",
    "x = np.linspace(-4,4,50,endpoint = True)\n",
    "y = (4 * x**2)-16\n",
    "\n",
    "fig1 = plt.figure(num =1, figsize =(5,5))\n",
    "plt.plot(x,y)\n",
    "plt.grid(True)\n",
    "plt.title(\"x' = 4*x^2-16\")\n",
    "plt.xlabel('x')\n",
    "plt.ylabel(\"x'\")\n",
    "\n",
    "\n"
   ]
  },
  {
   "cell_type": "code",
   "execution_count": 2,
   "metadata": {
    "autoscroll": false,
    "ein.tags": "worksheet-0",
    "slideshow": {
     "slide_type": "-"
    }
   },
   "outputs": [
    {
     "data": {
      "text/plain": [
       "<matplotlib.figure.Figure at 0x1081567b8>"
      ]
     },
     "execution_count": 2,
     "metadata": {},
     "output_type": "execute_result",
     "png": "[encoded data removed]"
    }
   ],
   "source": [
    "fig1"
   ]
  },
  {
   "cell_type": "code",
   "execution_count": 3,
   "metadata": {
    "autoscroll": false,
    "ein.tags": "worksheet-0",
    "slideshow": {
     "slide_type": "-"
    }
   },
   "outputs": [
    {
     "data": {
      "text/plain": [
       "array([-4.        , -3.83673469, -3.67346939, -3.51020408, -3.34693878,\n",
       "       -3.18367347, -3.02040816, -2.85714286, -2.69387755, -2.53061224,\n",
       "       -2.36734694, -2.20408163, -2.04081633, -1.87755102, -1.71428571,\n",
       "       -1.55102041, -1.3877551 , -1.2244898 , -1.06122449, -0.89795918,\n",
       "       -0.73469388, -0.57142857, -0.40816327, -0.24489796, -0.08163265,\n",
       "        0.08163265,  0.24489796,  0.40816327,  0.57142857,  0.73469388,\n",
       "        0.89795918,  1.06122449,  1.2244898 ,  1.3877551 ,  1.55102041,\n",
       "        1.71428571,  1.87755102,  2.04081633,  2.20408163,  2.36734694,\n",
       "        2.53061224,  2.69387755,  2.85714286,  3.02040816,  3.18367347,\n",
       "        3.34693878,  3.51020408,  3.67346939,  3.83673469,  4.        ])"
      ]
     },
     "execution_count": 3,
     "metadata": {},
     "output_type": "execute_result"
    }
   ],
   "source": [
    "x"
   ]
  },
  {
   "cell_type": "code",
   "execution_count": 4,
   "metadata": {
    "autoscroll": false,
    "ein.tags": "worksheet-0",
    "slideshow": {
     "slide_type": "-"
    }
   },
   "outputs": [
    {
     "data": {
      "text/plain": [
       "array([ 48.        ,  42.88213244,  37.97750937,  33.28613078,\n",
       "        28.80799667,  24.54310704,  20.49146189,  16.65306122,\n",
       "        13.02790504,   9.61599334,   6.41732611,   3.43190337,\n",
       "         0.65972511,  -1.89920866,  -4.24489796,  -6.37734277,\n",
       "        -8.29654311, -10.00249896, -11.49521033, -12.77467722,\n",
       "       -13.84089963, -14.69387755, -15.333611  , -15.76009996,\n",
       "       -15.97334444, -15.97334444, -15.76009996, -15.333611  ,\n",
       "       -14.69387755, -13.84089963, -12.77467722, -11.49521033,\n",
       "       -10.00249896,  -8.29654311,  -6.37734277,  -4.24489796,\n",
       "        -1.89920866,   0.65972511,   3.43190337,   6.41732611,\n",
       "         9.61599334,  13.02790504,  16.65306122,  20.49146189,\n",
       "        24.54310704,  28.80799667,  33.28613078,  37.97750937,\n",
       "        42.88213244,  48.        ])"
      ]
     },
     "execution_count": 4,
     "metadata": {},
     "output_type": "execute_result"
    }
   ],
   "source": [
    "y"
   ]
  }
 ],
 "metadata": {
  "kernelspec": {
   "display_name": "Python 3",
   "language": "python",
   "name": "python3"
  },
  "language_info": {
   "codemirror_mode": {
    "name": "ipython",
    "version": 3
   },
   "file_extension": ".py",
   "mimetype": "text/x-python",
   "name": "python",
   "nbconvert_exporter": "python",
   "pygments_lexer": "ipython3",
   "version": "3.6.0"
  },
  "name": "Untitled1.ipynb"
 },
 "nbformat": 4,
 "nbformat_minor": 2
}
